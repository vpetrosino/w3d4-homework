{
 "cells": [
  {
   "cell_type": "markdown",
   "id": "962444ee",
   "metadata": {},
   "source": [
    "# Map, Filter, Reduce, Lambda & Recursion"
   ]
  },
  {
   "cell_type": "markdown",
   "id": "42f619ed",
   "metadata": {},
   "source": [
    "## Tasks Today:\n",
    "\n",
    "1) <b>Lambda Functions</b> <br>\n",
    " &nbsp;&nbsp;&nbsp;&nbsp; a) Syntax <br>\n",
    " &nbsp;&nbsp;&nbsp;&nbsp; b) Saving to a Variable <br>\n",
    " &nbsp;&nbsp;&nbsp;&nbsp; c) Multiple Inputs <br>\n",
    " &nbsp;&nbsp;&nbsp;&nbsp; d) Passing a Lambda into a Function <br>\n",
    " &nbsp;&nbsp;&nbsp;&nbsp; e) Returning a Lambda from a Function <br>\n",
    " &nbsp;&nbsp;&nbsp;&nbsp; f) In-Class Exercise #1 <br>\n",
    "2) <b>Map</b> <br>\n",
    " &nbsp;&nbsp;&nbsp;&nbsp; a) Syntax <br>\n",
    " &nbsp;&nbsp;&nbsp;&nbsp; b) Using Lambda's with Map <br>\n",
    " &nbsp;&nbsp;&nbsp;&nbsp; c) In-Class Exercise #2 <br>\n",
    "3) <b>Filter</b> <br>\n",
    " &nbsp;&nbsp;&nbsp;&nbsp; a) Syntax <br>\n",
    " &nbsp;&nbsp;&nbsp;&nbsp; b) Using Lambda's with Filter <br>\n",
    " &nbsp;&nbsp;&nbsp;&nbsp; c) In-Class Exercise #3 <br>\n",
    "4) <b>Reduce</b> <br>\n",
    " &nbsp;&nbsp;&nbsp;&nbsp; a) Syntax <br>\n",
    " &nbsp;&nbsp;&nbsp;&nbsp; b) Using Lambda's with Reduce <br>\n",
    " &nbsp;&nbsp;&nbsp;&nbsp; c) In-Class Exercise #4 <br>\n",
    "5) <b>Recursion</b> <br>\n",
    " &nbsp;&nbsp;&nbsp;&nbsp; a) Implementing a Base <br>\n",
    " &nbsp;&nbsp;&nbsp;&nbsp; b) Writing a Factorial Function <br>\n",
    " &nbsp;&nbsp;&nbsp;&nbsp; c) In-Class Exercise #5 <br>\n",
    "6) <b>Generators & Iterators</b> <br>\n",
    " &nbsp;&nbsp;&nbsp;&nbsp; a) Yield Keyword <br>\n",
    " &nbsp;&nbsp;&nbsp;&nbsp; b) Inifinite Generator <br>\n",
    " &nbsp;&nbsp;&nbsp;&nbsp; c) In-Class Exercise #6 <br>\n",
    "7) <b>Exercises</b> <br>\n",
    " &nbsp;&nbsp;&nbsp;&nbsp; a) Exercise #1 - Filtering Empty Strings <br>\n",
    " &nbsp;&nbsp;&nbsp;&nbsp; b) Exercise #2 - Sorting with Last Name <br>\n",
    " &nbsp;&nbsp;&nbsp;&nbsp; c) Exercise #3 - Conversion to Farhenheit <br>\n",
    " &nbsp;&nbsp;&nbsp;&nbsp; d) Exercise #4 - Fibonacci Sequence <br>"
   ]
  },
  {
   "cell_type": "markdown",
   "id": "78568ff0",
   "metadata": {},
   "source": [
    "## List Comprehensions <br>"
   ]
  },
  {
   "cell_type": "code",
   "execution_count": 11,
   "id": "3c2b89ed",
   "metadata": {
    "scrolled": true
   },
   "outputs": [
    {
     "name": "stdout",
     "output_type": "stream",
     "text": [
      "apple\n",
      "pear\n",
      "banana\n",
      "beet\n",
      "\n",
      "1 apple\n",
      "2 pear\n",
      "3 banana\n",
      "4 beet\n",
      "\n",
      "0 apple\n",
      "1 pear\n",
      "2 banana\n",
      "3 beet\n",
      "\n",
      "0 apple\n",
      "1 pear\n",
      "2 banana\n",
      "3 beet\n"
     ]
    }
   ],
   "source": [
    "a_list = ['apple', 'pear', 'banana', 'beet']\n",
    "\n",
    "for i in a_list:\n",
    "    print(i)\n",
    "\n",
    "print()\n",
    "\n",
    "for i in range(len(a_list)):\n",
    "    print(i+1, a_list[i])\n",
    "    \n",
    "print()\n",
    "\n",
    "for i, v in enumerate(a_list):\n",
    "    print(i, v)\n",
    "    \n",
    "\n",
    "print()\n",
    "\n",
    "for i in enumerate(a_list):\n",
    "    print(i[0], i[1])"
   ]
  },
  {
   "cell_type": "code",
   "execution_count": 19,
   "id": "8e23bea1",
   "metadata": {
    "scrolled": true
   },
   "outputs": [
    {
     "name": "stdout",
     "output_type": "stream",
     "text": [
      "['You are eating a apple.', 'You are eating a pear.', 'You are eating a banana.', 'You are eating a beet.']\n",
      "['you-are-eating-a-apple.', 'you-are-eating-a-pear.', 'you-are-eating-a-banana.', 'you-are-eating-a-beet.']\n"
     ]
    }
   ],
   "source": [
    "slug_list = []\n",
    "\n",
    "for i in a_list:\n",
    "    a_sentence = f'You are eating a {i}.'\n",
    "    slug_list.append(a_sentence)\n",
    "    \n",
    "print(slug_list)\n",
    "\n",
    "new_slug_list = []\n",
    "for i in slug_list:\n",
    "    slug = i.lower()\n",
    "    new_slug_list.append(slug)\n",
    "\n",
    "newer_slug_list = []\n",
    "for i in new_slug_list:\n",
    "    new_word = i.replace(' ', '-')\n",
    "    newer_slug_list.append(new_word)\n",
    "print(newer_slug_list)"
   ]
  },
  {
   "cell_type": "code",
   "execution_count": 21,
   "id": "01a0740e",
   "metadata": {
    "scrolled": true
   },
   "outputs": [
    {
     "name": "stdout",
     "output_type": "stream",
     "text": [
      "You are eating a apple\n",
      "You are eating a banana\n",
      "You are eating a beet\n"
     ]
    }
   ],
   "source": [
    "for sentence in [f'You are eating a {fruit}' for fruit in a_list]:\n",
    "    if 'pear' in sentence:\n",
    "        pass\n",
    "    else:\n",
    "        print(sentence)"
   ]
  },
  {
   "cell_type": "code",
   "execution_count": 22,
   "id": "2ba366a7",
   "metadata": {},
   "outputs": [
    {
     "data": {
      "text/plain": [
       "['You are eating a apple',\n",
       " 'You are eating a pear',\n",
       " 'You are eating a banana',\n",
       " 'You are eating a beet']"
      ]
     },
     "execution_count": 22,
     "metadata": {},
     "output_type": "execute_result"
    }
   ],
   "source": [
    "[f'You are eating a {fruit}' for fruit in a_list]"
   ]
  },
  {
   "cell_type": "code",
   "execution_count": 118,
   "id": "47acb923",
   "metadata": {},
   "outputs": [
    {
     "data": {
      "text/plain": [
       "[10, 1, 9, 10, 1, 6, 8, 9, 7, 7]"
      ]
     },
     "execution_count": 118,
     "metadata": {},
     "output_type": "execute_result"
    }
   ],
   "source": [
    "import random\n",
    "\n",
    "# [return statement for interation in list]\n",
    "\n",
    "[random.randint(1, 10) for i in range(10)]"
   ]
  },
  {
   "cell_type": "code",
   "execution_count": 30,
   "id": "fa43793a",
   "metadata": {
    "scrolled": true
   },
   "outputs": [
    {
     "name": "stdout",
     "output_type": "stream",
     "text": [
      "Help on method randint in module random:\n",
      "\n",
      "randint(a, b) method of random.Random instance\n",
      "    Return random integer in range [a, b], including both end points.\n",
      "\n"
     ]
    }
   ],
   "source": [
    "help(random.randint(1, 10))"
   ]
  },
  {
   "cell_type": "code",
   "execution_count": 100,
   "id": "9f810b41",
   "metadata": {},
   "outputs": [
    {
     "data": {
      "text/plain": [
       "[1, 4, 6, 4, 6, 9, 1, 1, 2, 1]"
      ]
     },
     "execution_count": 100,
     "metadata": {},
     "output_type": "execute_result"
    }
   ],
   "source": [
    "empty_list = []\n",
    "\n",
    "for i in range(10):\n",
    "    random_number = random.randint(1, 10)\n",
    "    empty_list.append(random_number)\n",
    "    \n",
    "empty_list"
   ]
  },
  {
   "cell_type": "code",
   "execution_count": 119,
   "id": "a118cc84",
   "metadata": {},
   "outputs": [
    {
     "name": "stdout",
     "output_type": "stream",
     "text": [
      "L\n",
      "u\n",
      "c\n",
      "a\n",
      "s\n"
     ]
    }
   ],
   "source": [
    "# Nest for loop\n",
    "\n",
    "name1 = \"Derek\"\n",
    "name2 = \"Lucas\"\n",
    "\n",
    "for letter in name2:\n",
    "    print(letter)"
   ]
  },
  {
   "cell_type": "code",
   "execution_count": 120,
   "id": "2e9603a9",
   "metadata": {},
   "outputs": [
    {
     "data": {
      "text/plain": [
       "['Derek', 'Lucas']"
      ]
     },
     "execution_count": 120,
     "metadata": {},
     "output_type": "execute_result"
    }
   ],
   "source": [
    "name_list = [name1, name2]\n",
    "\n",
    "name_list"
   ]
  },
  {
   "cell_type": "code",
   "execution_count": 31,
   "id": "c05e3831",
   "metadata": {
    "scrolled": true
   },
   "outputs": [
    {
     "name": "stdout",
     "output_type": "stream",
     "text": [
      "<Card: 1 of Spades>\n",
      "<Card: 2 of Spades>\n",
      "<Card: 3 of Spades>\n",
      "<Card: 4 of Spades>\n",
      "<Card: 5 of Spades>\n",
      "<Card: 6 of Spades>\n",
      "<Card: 7 of Spades>\n",
      "<Card: 8 of Spades>\n",
      "<Card: 9 of Spades>\n",
      "<Card: 10 of Spades>\n",
      "<Card: 11 of Spades>\n",
      "<Card: 12 of Spades>\n",
      "<Card: 13 of Spades>\n",
      "<Card: 1 of Hearts>\n",
      "<Card: 2 of Hearts>\n",
      "<Card: 3 of Hearts>\n",
      "<Card: 4 of Hearts>\n",
      "<Card: 5 of Hearts>\n",
      "<Card: 6 of Hearts>\n",
      "<Card: 7 of Hearts>\n",
      "<Card: 8 of Hearts>\n",
      "<Card: 9 of Hearts>\n",
      "<Card: 10 of Hearts>\n",
      "<Card: 11 of Hearts>\n",
      "<Card: 12 of Hearts>\n",
      "<Card: 13 of Hearts>\n",
      "<Card: 1 of Diamonds>\n",
      "<Card: 2 of Diamonds>\n",
      "<Card: 3 of Diamonds>\n",
      "<Card: 4 of Diamonds>\n",
      "<Card: 5 of Diamonds>\n",
      "<Card: 6 of Diamonds>\n",
      "<Card: 7 of Diamonds>\n",
      "<Card: 8 of Diamonds>\n",
      "<Card: 9 of Diamonds>\n",
      "<Card: 10 of Diamonds>\n",
      "<Card: 11 of Diamonds>\n",
      "<Card: 12 of Diamonds>\n",
      "<Card: 13 of Diamonds>\n",
      "<Card: 1 of Clubs>\n",
      "<Card: 2 of Clubs>\n",
      "<Card: 3 of Clubs>\n",
      "<Card: 4 of Clubs>\n",
      "<Card: 5 of Clubs>\n",
      "<Card: 6 of Clubs>\n",
      "<Card: 7 of Clubs>\n",
      "<Card: 8 of Clubs>\n",
      "<Card: 9 of Clubs>\n",
      "<Card: 10 of Clubs>\n",
      "<Card: 11 of Clubs>\n",
      "<Card: 12 of Clubs>\n",
      "<Card: 13 of Clubs>\n"
     ]
    }
   ],
   "source": [
    "import random\n",
    "\n",
    "class Deck:\n",
    "    def __init__(self):\n",
    "        self.suits = ['Spade', 'Heart', 'Diamond', 'Club']\n",
    "        self.ranks = [i for i in range(1, 14)]\n",
    "        # self.cards = [(suit, rank) for suit in self.suits for rank in self.ranks]\n",
    "        self.cards = []\n",
    "        \n",
    "    def create_cards(self):\n",
    "        for suit in self.suits:\n",
    "              for rank in self.ranks:\n",
    "                    self.cards.append((suit, rank))\n",
    "        \n",
    "    def shuffle_deck(self):\n",
    "        random.shuffle(self.cards)\n",
    "        print('Deck is shuffled...')\n",
    "\n",
    "deck = Deck()\n",
    "deck.create_cards()\n",
    "deck.cards\n",
    "deck.shuffle_deck()\n",
    "deck.cards"
   ]
  },
  {
   "cell_type": "code",
   "execution_count": null,
   "id": "7dc7db29",
   "metadata": {},
   "outputs": [],
   "source": []
  },
  {
   "cell_type": "code",
   "execution_count": 137,
   "id": "740b1cd6",
   "metadata": {},
   "outputs": [
    {
     "data": {
      "text/plain": [
       "[('Heart', 8),\n",
       " ('Diamond', 3),\n",
       " ('Heart', 1),\n",
       " ('Heart', 9),\n",
       " ('Heart', 4),\n",
       " ('Spade', 12),\n",
       " ('Heart', 10),\n",
       " ('Heart', 3),\n",
       " ('Diamond', 2),\n",
       " ('Club', 5),\n",
       " ('Heart', 12),\n",
       " ('Heart', 6),\n",
       " ('Diamond', 7),\n",
       " ('Club', 3),\n",
       " ('Spade', 5),\n",
       " ('Club', 11),\n",
       " ('Heart', 5),\n",
       " ('Spade', 2),\n",
       " ('Spade', 3),\n",
       " ('Club', 13),\n",
       " ('Spade', 10),\n",
       " ('Diamond', 4),\n",
       " ('Spade', 8),\n",
       " ('Club', 1),\n",
       " ('Club', 2),\n",
       " ('Heart', 2),\n",
       " ('Diamond', 9),\n",
       " ('Heart', 11),\n",
       " ('Club', 4),\n",
       " ('Heart', 7),\n",
       " ('Club', 8),\n",
       " ('Spade', 4),\n",
       " ('Club', 12),\n",
       " ('Diamond', 6),\n",
       " ('Spade', 6),\n",
       " ('Diamond', 11),\n",
       " ('Club', 10),\n",
       " ('Diamond', 5),\n",
       " ('Club', 7),\n",
       " ('Spade', 9),\n",
       " ('Club', 6),\n",
       " ('Club', 9),\n",
       " ('Spade', 7),\n",
       " ('Diamond', 13),\n",
       " ('Spade', 1),\n",
       " ('Diamond', 1),\n",
       " ('Diamond', 8),\n",
       " ('Spade', 11),\n",
       " ('Diamond', 10),\n",
       " ('Heart', 13),\n",
       " ('Spade', 13),\n",
       " ('Diamond', 12)]"
      ]
     },
     "execution_count": 137,
     "metadata": {},
     "output_type": "execute_result"
    }
   ],
   "source": [
    "deck.cards"
   ]
  },
  {
   "cell_type": "code",
   "execution_count": 125,
   "id": "3420bbd8",
   "metadata": {},
   "outputs": [
    {
     "data": {
      "text/plain": [
       "['Derek',\n",
       " 'Derek',\n",
       " 'Derek',\n",
       " 'Derek',\n",
       " 'Derek',\n",
       " 'Lucas',\n",
       " 'Lucas',\n",
       " 'Lucas',\n",
       " 'Lucas',\n",
       " 'Lucas']"
      ]
     },
     "execution_count": 125,
     "metadata": {},
     "output_type": "execute_result"
    }
   ],
   "source": [
    "[name for name in name_list for letter in name]"
   ]
  },
  {
   "cell_type": "markdown",
   "id": "5eaec5fe",
   "metadata": {},
   "source": [
    "## Ternary Operators <br>"
   ]
  },
  {
   "cell_type": "code",
   "execution_count": 150,
   "id": "80888928",
   "metadata": {},
   "outputs": [],
   "source": [
    "# return statement if statement is True else if statement is False\n",
    "\n",
    "name3 = 'Ripalz'\n",
    "\n",
    "# \"Hello, there\" if name3 == 'Ripal' else 'Who are you?'\n",
    "# \"Hello, there\" if name3 == 'Ripal' else None"
   ]
  },
  {
   "cell_type": "code",
   "execution_count": 159,
   "id": "2478bcbf",
   "metadata": {
    "scrolled": true
   },
   "outputs": [
    {
     "data": {
      "text/plain": [
       "[('Spade', 'A'),\n",
       " ('Spade', 2),\n",
       " ('Spade', 3),\n",
       " ('Spade', 4),\n",
       " ('Spade', 5),\n",
       " ('Spade', 6),\n",
       " ('Spade', 7),\n",
       " ('Spade', 8),\n",
       " ('Spade', 9),\n",
       " ('Spade', 10),\n",
       " ('Spade', 12),\n",
       " ('Spade', 13),\n",
       " ('Heart', 'A'),\n",
       " ('Heart', 2),\n",
       " ('Heart', 3),\n",
       " ('Heart', 4),\n",
       " ('Heart', 5),\n",
       " ('Heart', 6),\n",
       " ('Heart', 7),\n",
       " ('Heart', 8),\n",
       " ('Heart', 9),\n",
       " ('Heart', 10),\n",
       " ('Heart', 12),\n",
       " ('Heart', 13),\n",
       " ('Diamond', 'A'),\n",
       " ('Diamond', 2),\n",
       " ('Diamond', 3),\n",
       " ('Diamond', 4),\n",
       " ('Diamond', 5),\n",
       " ('Diamond', 6),\n",
       " ('Diamond', 7),\n",
       " ('Diamond', 8),\n",
       " ('Diamond', 9),\n",
       " ('Diamond', 10),\n",
       " ('Diamond', 12),\n",
       " ('Diamond', 13),\n",
       " ('Club', 'A'),\n",
       " ('Club', 2),\n",
       " ('Club', 3),\n",
       " ('Club', 4),\n",
       " ('Club', 5),\n",
       " ('Club', 6),\n",
       " ('Club', 7),\n",
       " ('Club', 8),\n",
       " ('Club', 9),\n",
       " ('Club', 10),\n",
       " ('Club', 12),\n",
       " ('Club', 13)]"
      ]
     },
     "execution_count": 159,
     "metadata": {},
     "output_type": "execute_result"
    }
   ],
   "source": [
    "import random\n",
    "\n",
    "class Deck:\n",
    "    def __init__(self):\n",
    "        self.suits = ['Spade', 'Heart', 'Diamond', 'Club']\n",
    "        self.ranks = [i for i in range(1, 14)]\n",
    "        self.cards = [(suit, rank if rank != 1 else 'A') for suit in self.suits for rank in self.ranks if rank != 11]\n",
    "\n",
    "    def shuffle_deck(self):\n",
    "        random.shuffle(self.cards)\n",
    "        print('Deck is shuffled...')\n",
    "\n",
    "deck = Deck()\n",
    "deck.cards"
   ]
  },
  {
   "cell_type": "code",
   "execution_count": 164,
   "id": "8e2cc60c",
   "metadata": {},
   "outputs": [
    {
     "data": {
      "text/plain": [
       "{0, 2, 4, 6, 8, 66}"
      ]
     },
     "execution_count": 164,
     "metadata": {},
     "output_type": "execute_result"
    }
   ],
   "source": [
    "# Set Comprehension\n",
    "\n",
    "new_list = [0, 2, 3, 4, 5, 9, 6, 66, 2, 2, 2, 2, 7, 8, 9]\n",
    "\n",
    "{n for n in new_list if n%2==0}"
   ]
  },
  {
   "cell_type": "code",
   "execution_count": 171,
   "id": "a5d94fa6",
   "metadata": {},
   "outputs": [
    {
     "data": {
      "text/plain": [
       "{'html': 9, 'python': 10, 'javascript': 8}"
      ]
     },
     "execution_count": 171,
     "metadata": {},
     "output_type": "execute_result"
    }
   ],
   "source": [
    "# Dictionary Comprehension\n",
    "ratings = {\n",
    "    'html': '9',\n",
    "    'css': '6',\n",
    "    'python': '10',\n",
    "    'javascript': '8'\n",
    "}\n",
    "\n",
    "filtered_rating = {key:int(rank) for (key, rank) in ratings.items() if int(rank) > 6}\n",
    "\n",
    "filtered_rating"
   ]
  },
  {
   "cell_type": "markdown",
   "id": "06f42d97",
   "metadata": {},
   "source": [
    "## Lambda Functions <br>\n",
    "<p>Lambda functions... or \"Anonymous Functions\" are referring to inline functions with no name. The keyword lambda denotes the no name function, and executes within a single line. Without saving it to a variable; however, it is not able to be used, unless passed in either as a paramater or within list comprehension.<br>Written as \"(keyword lambda) (one or more inputs) (colon) (function to be executed)\"</p>"
   ]
  },
  {
   "cell_type": "markdown",
   "id": "3903772b",
   "metadata": {},
   "source": [
    "### Example"
   ]
  },
  {
   "cell_type": "code",
   "execution_count": 144,
   "id": "44a28c61",
   "metadata": {},
   "outputs": [
    {
     "name": "stdout",
     "output_type": "stream",
     "text": [
      "Greetings, Bob!\n"
     ]
    }
   ],
   "source": [
    "def print_greeting(a_name):\n",
    "    print(f'Greetings, {a_name}!')\n",
    "    \n",
    "print_greeting('Bob')"
   ]
  },
  {
   "cell_type": "code",
   "execution_count": 145,
   "id": "1104f3ae",
   "metadata": {},
   "outputs": [],
   "source": [
    "print_greeting_lambda = lambda a_name:f'Greetings, {a_name}!'"
   ]
  },
  {
   "cell_type": "code",
   "execution_count": 146,
   "id": "53e9011c",
   "metadata": {
    "scrolled": false
   },
   "outputs": [
    {
     "data": {
      "text/plain": [
       "'Greetings, James!'"
      ]
     },
     "execution_count": 146,
     "metadata": {},
     "output_type": "execute_result"
    }
   ],
   "source": [
    "print_greeting_lambda(\"James\")"
   ]
  },
  {
   "cell_type": "markdown",
   "id": "6ca889b4",
   "metadata": {},
   "source": [
    "### Syntax"
   ]
  },
  {
   "cell_type": "code",
   "execution_count": 172,
   "id": "0d022cfe",
   "metadata": {},
   "outputs": [
    {
     "data": {
      "text/plain": [
       "53"
      ]
     },
     "execution_count": 172,
     "metadata": {},
     "output_type": "execute_result"
    }
   ],
   "source": [
    "# lambda x:x\n",
    "def add(x, y):\n",
    "    return x+y\n",
    "\n",
    "add(45, 8)"
   ]
  },
  {
   "cell_type": "code",
   "execution_count": 174,
   "id": "017ff3bf",
   "metadata": {},
   "outputs": [
    {
     "data": {
      "text/plain": [
       "100"
      ]
     },
     "execution_count": 174,
     "metadata": {},
     "output_type": "execute_result"
    }
   ],
   "source": [
    "add_lambda = lambda x,y:x+y\n",
    "add_lambda(98, 2)"
   ]
  },
  {
   "cell_type": "code",
   "execution_count": 175,
   "id": "292d36c2",
   "metadata": {},
   "outputs": [],
   "source": [
    "# Real world\n",
    "# Using lambda functions inside of other functions\n",
    "def my_func(f, num):\n",
    "    return f(num)\n",
    "\n",
    "func_a = lambda n:n**2\n",
    "func_b = lambda n:n**3"
   ]
  },
  {
   "cell_type": "code",
   "execution_count": 179,
   "id": "71c1d33b",
   "metadata": {
    "scrolled": true
   },
   "outputs": [
    {
     "data": {
      "text/plain": [
       "9"
      ]
     },
     "execution_count": 179,
     "metadata": {},
     "output_type": "execute_result"
    }
   ],
   "source": [
    "my_func(func_a, 3)"
   ]
  },
  {
   "cell_type": "code",
   "execution_count": 200,
   "id": "179e4742",
   "metadata": {},
   "outputs": [
    {
     "data": {
      "text/plain": [
       "'Gerald'"
      ]
     },
     "execution_count": 200,
     "metadata": {},
     "output_type": "execute_result"
    }
   ],
   "source": [
    "def not_found():\n",
    "    print(\"Sorry, you are not found in our systemm. Please contact the system administrator\")\n",
    "\n",
    "def found():\n",
    "    print(\"Welcome! Nice to see you again!\")\n",
    "\n",
    "def greet(func, name=\"Gerald\"):\n",
    "    return func(name)\n",
    "\n",
    "name = \"Gerald\"\n",
    "greet(lambda n:n)"
   ]
  },
  {
   "cell_type": "code",
   "execution_count": 190,
   "id": "6e8314a7",
   "metadata": {},
   "outputs": [
    {
     "data": {
      "text/plain": [
       "[1, 6, 2, 6, 26, 37, 2, 30, 1, 27]"
      ]
     },
     "execution_count": 190,
     "metadata": {},
     "output_type": "execute_result"
    }
   ],
   "source": [
    "import random\n",
    "\n",
    "unsorted_list = [random.randint(1, 40) for _ in range(10)]\n",
    "unsorted_list"
   ]
  },
  {
   "cell_type": "code",
   "execution_count": null,
   "id": "51845eb9",
   "metadata": {},
   "outputs": [],
   "source": []
  },
  {
   "cell_type": "code",
   "execution_count": 198,
   "id": "3590a0c3",
   "metadata": {
    "scrolled": true
   },
   "outputs": [
    {
     "data": {
      "text/plain": [
       "[1, 6, 2, 6, 26, 37, 2, 30, 1, 27]"
      ]
     },
     "execution_count": 198,
     "metadata": {},
     "output_type": "execute_result"
    }
   ],
   "source": [
    "sorted(unsorted_list, key=lambda x:x%1!=0)"
   ]
  },
  {
   "cell_type": "code",
   "execution_count": 205,
   "id": "c8550af5",
   "metadata": {
    "scrolled": true
   },
   "outputs": [
    {
     "data": {
      "text/plain": [
       "[7 Bees,\n",
       " 8 Bees,\n",
       " 10 Bees,\n",
       " 16 Bees,\n",
       " 22 Bees,\n",
       " 24 Bees,\n",
       " 31 Bees,\n",
       " 48 Bees,\n",
       " 49 Bees,\n",
       " 52 Bees,\n",
       " 54 Bees,\n",
       " 58 Bees,\n",
       " 58 Bees,\n",
       " 60 Bees,\n",
       " 74 Bees,\n",
       " 79 Bees,\n",
       " 80 Bees,\n",
       " 81 Bees,\n",
       " 95 Bees,\n",
       " 95 Bees]"
      ]
     },
     "execution_count": 205,
     "metadata": {},
     "output_type": "execute_result"
    }
   ],
   "source": [
    "import random\n",
    "\n",
    "class Beehive:\n",
    "    def __init__(self):\n",
    "        self.population = random.randint(1, 100)\n",
    "        \n",
    "    def __repr__(self):\n",
    "        return f'{self.population} Bees'\n",
    "        \n",
    "beehive_list = [Beehive() for _ in range(20)]\n",
    "beehive_list\n",
    "\n",
    "sorted(beehive_list, key=lambda x:x.population)"
   ]
  },
  {
   "cell_type": "code",
   "execution_count": 215,
   "id": "b6b24773",
   "metadata": {},
   "outputs": [],
   "source": [
    "class Battery:\n",
    "    def __init__(self, cells=6):\n",
    "        self.cells = cells\n",
    "        \n",
    "    def __repr__(self):\n",
    "        return f'<Battery: {self.cells}>'\n",
    "\n",
    "class Car:\n",
    "    _list = []\n",
    "    \n",
    "    def __init__(self, year, make, model, cells=6):\n",
    "        self.year = year\n",
    "        self.make = make\n",
    "        self.model = model\n",
    "        self.battery = Battery(cells)\n",
    "        self._list.append(self)\n",
    "        \n",
    "    def __repr__(self):\n",
    "        return f'<Car: {self.year} {self.make} {self.model}: {self.battery} Cells>'\n",
    "\n",
    "c1 = Car(2020, 'Chevrolet', 'Tahoe', 12)\n",
    "c2 = Car(2018, 'GMC', 'Terrain', 8)\n",
    "c3 = Car(2020, 'Ford', 'Fusion')"
   ]
  },
  {
   "cell_type": "code",
   "execution_count": 216,
   "id": "1383b4ed",
   "metadata": {},
   "outputs": [
    {
     "data": {
      "text/plain": [
       "[<Car: 2020 Chevrolet Tahoe: <Battery: 12> Cells>,\n",
       " <Car: 2018 GMC Terrain: <Battery: 8> Cells>,\n",
       " <Car: 2020 Ford Fusion: <Battery: 6> Cells>]"
      ]
     },
     "execution_count": 216,
     "metadata": {},
     "output_type": "execute_result"
    }
   ],
   "source": [
    "Car._list"
   ]
  },
  {
   "cell_type": "code",
   "execution_count": 220,
   "id": "a19945ae",
   "metadata": {
    "scrolled": true
   },
   "outputs": [
    {
     "data": {
      "text/plain": [
       "[<Car: 2020 Chevrolet Tahoe: <Battery: 12> Cells>,\n",
       " <Car: 2018 GMC Terrain: <Battery: 8> Cells>,\n",
       " <Car: 2020 Ford Fusion: <Battery: 6> Cells>]"
      ]
     },
     "execution_count": 220,
     "metadata": {},
     "output_type": "execute_result"
    }
   ],
   "source": [
    "sorted(Car._list, key=lambda c:c.battery.cells, reverse=True)"
   ]
  },
  {
   "cell_type": "code",
   "execution_count": 226,
   "id": "34fa9091",
   "metadata": {
    "scrolled": true
   },
   "outputs": [
    {
     "data": {
      "text/plain": [
       "[<Car: 2020 Chevrolet Tahoe: <Battery: 12> Cells>,\n",
       " <Car: 2020 Ford Fusion: <Battery: 6> Cells>,\n",
       " <Car: 2018 GMC Terrain: <Battery: 8> Cells>]"
      ]
     },
     "execution_count": 226,
     "metadata": {},
     "output_type": "execute_result"
    }
   ],
   "source": [
    "sorted(Car._list, key=lambda c:c.make)"
   ]
  },
  {
   "cell_type": "code",
   "execution_count": 225,
   "id": "37b9ecc5",
   "metadata": {},
   "outputs": [
    {
     "data": {
      "text/plain": [
       "[<Car: 2018 GMC Terrain: <Battery: 8> Cells>,\n",
       " <Car: 2020 Chevrolet Tahoe: <Battery: 12> Cells>,\n",
       " <Car: 2020 Ford Fusion: <Battery: 6> Cells>]"
      ]
     },
     "execution_count": 225,
     "metadata": {},
     "output_type": "execute_result"
    }
   ],
   "source": [
    "sorted(Car._list, key=lambda c:c.year)"
   ]
  },
  {
   "cell_type": "code",
   "execution_count": 224,
   "id": "64386b5c",
   "metadata": {},
   "outputs": [
    {
     "data": {
      "text/plain": [
       "[<Car: 2020 Ford Fusion: <Battery: 6> Cells>,\n",
       " <Car: 2020 Chevrolet Tahoe: <Battery: 12> Cells>,\n",
       " <Car: 2018 GMC Terrain: <Battery: 8> Cells>]"
      ]
     },
     "execution_count": 224,
     "metadata": {},
     "output_type": "execute_result"
    }
   ],
   "source": [
    "sorted(Car._list, key=lambda c:c.model)"
   ]
  },
  {
   "cell_type": "markdown",
   "id": "0b210599",
   "metadata": {},
   "source": [
    "### Return a lambda function from a function"
   ]
  },
  {
   "cell_type": "code",
   "execution_count": 1,
   "id": "d2428038",
   "metadata": {},
   "outputs": [
    {
     "data": {
      "text/plain": [
       "13"
      ]
     },
     "execution_count": 1,
     "metadata": {},
     "output_type": "execute_result"
    }
   ],
   "source": [
    "def my_func(f, num):\n",
    "    return f(num)\n",
    "\n",
    "my_func(lambda x:x+10, 3)"
   ]
  },
  {
   "cell_type": "code",
   "execution_count": 3,
   "id": "d3801a05",
   "metadata": {},
   "outputs": [],
   "source": [
    "# return lambda x: x+a+b+c\n",
    "\n",
    "def my_other_func(a, b, c):\n",
    "    return lambda x: x+a+b+c"
   ]
  },
  {
   "cell_type": "code",
   "execution_count": 6,
   "id": "66dd7003",
   "metadata": {},
   "outputs": [
    {
     "data": {
      "text/plain": [
       "10"
      ]
     },
     "execution_count": 6,
     "metadata": {},
     "output_type": "execute_result"
    }
   ],
   "source": [
    "f = my_other_func(1, 2, 3)(4)\n",
    "f"
   ]
  },
  {
   "cell_type": "markdown",
   "id": "93aa96bf",
   "metadata": {},
   "source": [
    "### Generators"
   ]
  },
  {
   "cell_type": "code",
   "execution_count": 18,
   "id": "3076a8d5",
   "metadata": {
    "scrolled": true
   },
   "outputs": [
    {
     "data": {
      "text/plain": [
       "'Ripal'"
      ]
     },
     "execution_count": 18,
     "metadata": {},
     "output_type": "execute_result"
    }
   ],
   "source": [
    "names_list = [\"Ripal\", 'Frank', \"Ryan\", \"Joel\"]\n",
    "\n",
    "def do_something():\n",
    "    for name in names_list:\n",
    "        return name\n",
    "    \n",
    "do_something()"
   ]
  },
  {
   "cell_type": "code",
   "execution_count": 20,
   "id": "a5cc7517",
   "metadata": {},
   "outputs": [
    {
     "name": "stdout",
     "output_type": "stream",
     "text": [
      "Ripal\n",
      "Frank\n",
      "Ryan\n",
      "Joel\n"
     ]
    }
   ],
   "source": [
    "def do_something_better():\n",
    "    for name in names_list:\n",
    "        yield name\n",
    "\n",
    "for i in do_something_better():\n",
    "    print(i)"
   ]
  },
  {
   "cell_type": "code",
   "execution_count": 9,
   "id": "5466b9fa",
   "metadata": {},
   "outputs": [
    {
     "data": {
      "text/plain": [
       "[28, 31, 7, 49, 48, 26, 43, 6, 47, 37]"
      ]
     },
     "execution_count": 9,
     "metadata": {},
     "output_type": "execute_result"
    }
   ],
   "source": [
    "import random\n",
    "\n",
    "special_list = [random.randint(1, 50) for _ in range(10)]\n",
    "special_list"
   ]
  },
  {
   "cell_type": "markdown",
   "id": "d84a49c8",
   "metadata": {},
   "source": [
    "#### Generator Example"
   ]
  },
  {
   "cell_type": "code",
   "execution_count": 32,
   "id": "b8f83ccb",
   "metadata": {
    "scrolled": true
   },
   "outputs": [
    {
     "name": "stdout",
     "output_type": "stream",
     "text": [
      "<Card: 1 of Spades>\n",
      "<Card: 2 of Spades>\n",
      "<Card: 3 of Spades>\n",
      "<Card: 4 of Spades>\n",
      "<Card: 5 of Spades>\n",
      "<Card: 6 of Spades>\n",
      "<Card: 7 of Spades>\n",
      "<Card: 8 of Spades>\n",
      "<Card: 9 of Spades>\n",
      "<Card: 10 of Spades>\n",
      "<Card: 11 of Spades>\n",
      "<Card: 12 of Spades>\n",
      "<Card: 13 of Spades>\n",
      "<Card: 1 of Hearts>\n",
      "<Card: 2 of Hearts>\n",
      "<Card: 3 of Hearts>\n",
      "<Card: 4 of Hearts>\n",
      "<Card: 5 of Hearts>\n",
      "<Card: 6 of Hearts>\n",
      "<Card: 7 of Hearts>\n",
      "<Card: 8 of Hearts>\n",
      "<Card: 9 of Hearts>\n",
      "<Card: 10 of Hearts>\n",
      "<Card: 11 of Hearts>\n",
      "<Card: 12 of Hearts>\n",
      "<Card: 13 of Hearts>\n",
      "<Card: 1 of Diamonds>\n",
      "<Card: 2 of Diamonds>\n",
      "<Card: 3 of Diamonds>\n",
      "<Card: 4 of Diamonds>\n",
      "<Card: 5 of Diamonds>\n",
      "<Card: 6 of Diamonds>\n",
      "<Card: 7 of Diamonds>\n",
      "<Card: 8 of Diamonds>\n",
      "<Card: 9 of Diamonds>\n",
      "<Card: 10 of Diamonds>\n",
      "<Card: 11 of Diamonds>\n",
      "<Card: 12 of Diamonds>\n",
      "<Card: 13 of Diamonds>\n",
      "<Card: 1 of Clubs>\n",
      "<Card: 2 of Clubs>\n",
      "<Card: 3 of Clubs>\n",
      "<Card: 4 of Clubs>\n",
      "<Card: 5 of Clubs>\n",
      "<Card: 6 of Clubs>\n",
      "<Card: 7 of Clubs>\n",
      "<Card: 8 of Clubs>\n",
      "<Card: 9 of Clubs>\n",
      "<Card: 10 of Clubs>\n",
      "<Card: 11 of Clubs>\n",
      "<Card: 12 of Clubs>\n",
      "<Card: 13 of Clubs>\n"
     ]
    }
   ],
   "source": [
    "import random\n",
    "\n",
    "class Deck:\n",
    "    def __init__(self):\n",
    "        self.suits = ['Spade', 'Heart', 'Diamond', 'Club']\n",
    "        self.ranks = [i for i in range(1, 14)]\n",
    "        self.cards = [Card(suit, rank) for suit in self.suits for rank in self.ranks]\n",
    "        \n",
    "    def shuffle_deck(self):\n",
    "        random.shuffle(self.cards)\n",
    "        print('Deck is shuffled...')\n",
    "        \n",
    "class Card:\n",
    "    _list = []\n",
    "    \n",
    "    def __init__(self, suit, rank):\n",
    "        self.suit = suit\n",
    "        self.rank = rank\n",
    "        self._list.append(self)\n",
    "        \n",
    "    def __repr__(self):\n",
    "        return f'<Card: {self.rank} of {self.suit}s>'\n",
    "    \n",
    "    @classmethod\n",
    "    def all(cls):\n",
    "        for card in cls._list:\n",
    "            yield card\n",
    "\n",
    "deck = Deck()\n",
    "for c in Card.all():\n",
    "    print(c)"
   ]
  },
  {
   "cell_type": "markdown",
   "id": "418f4dfb",
   "metadata": {},
   "source": [
    "### Map"
   ]
  },
  {
   "cell_type": "code",
   "execution_count": 36,
   "id": "7e70d1f1",
   "metadata": {},
   "outputs": [
    {
     "data": {
      "text/plain": [
       "[(0, 28),\n",
       " (1, 31),\n",
       " (2, 7),\n",
       " (3, 49),\n",
       " (4, 48),\n",
       " (5, 26),\n",
       " (6, 43),\n",
       " (7, 6),\n",
       " (8, 47),\n",
       " (9, 37)]"
      ]
     },
     "execution_count": 36,
     "metadata": {},
     "output_type": "execute_result"
    }
   ],
   "source": [
    "list(enumerate(special_list))"
   ]
  },
  {
   "cell_type": "code",
   "execution_count": 15,
   "id": "769f140f",
   "metadata": {
    "scrolled": true
   },
   "outputs": [
    {
     "data": {
      "text/plain": [
       "[30, 33, 9, 51, 50, 28, 45, 8, 49, 39]"
      ]
     },
     "execution_count": 15,
     "metadata": {},
     "output_type": "execute_result"
    }
   ],
   "source": [
    "# Perform an action/functionality for every iteration of a list\n",
    "\n",
    "# map(func, a_list)\n",
    "\n",
    "f = lambda x:x+2\n",
    "\n",
    "list(map(f, special_list))"
   ]
  },
  {
   "cell_type": "code",
   "execution_count": 13,
   "id": "c5717337",
   "metadata": {},
   "outputs": [
    {
     "name": "stdout",
     "output_type": "stream",
     "text": [
      "30\n",
      "33\n",
      "9\n",
      "51\n",
      "50\n",
      "28\n",
      "45\n",
      "8\n",
      "49\n",
      "39\n"
     ]
    }
   ],
   "source": [
    "# for i in map(f, special_list):\n",
    "#     print(i)"
   ]
  },
  {
   "cell_type": "markdown",
   "id": "e437db0a",
   "metadata": {},
   "source": [
    "### Filter"
   ]
  },
  {
   "cell_type": "code",
   "execution_count": 43,
   "id": "523e272f",
   "metadata": {},
   "outputs": [
    {
     "name": "stdout",
     "output_type": "stream",
     "text": [
      "False\n",
      "False\n",
      "True\n",
      "False\n",
      "False\n",
      "False\n",
      "False\n",
      "True\n",
      "False\n",
      "False\n"
     ]
    }
   ],
   "source": [
    "# Filtering out all objects/values from a list that match the criteria you're searching for\n",
    "\n",
    "# filter(func, a_list)\n",
    "\n",
    "def my_third_func(num):\n",
    "    if num < 20:\n",
    "        return True\n",
    "    else:\n",
    "        return False\n",
    "    \n",
    "my_third_func(special_list[2])\n",
    "\n",
    "for i in special_list:\n",
    "    print(my_third_func(i))"
   ]
  },
  {
   "cell_type": "code",
   "execution_count": 49,
   "id": "114ef4e9",
   "metadata": {},
   "outputs": [
    {
     "data": {
      "text/plain": [
       "[28, 31, 7, 49, 48, 26, 43, 6, 47, 37]"
      ]
     },
     "execution_count": 49,
     "metadata": {},
     "output_type": "execute_result"
    }
   ],
   "source": [
    "special_list"
   ]
  },
  {
   "cell_type": "code",
   "execution_count": 51,
   "id": "797c3bc9",
   "metadata": {},
   "outputs": [
    {
     "data": {
      "text/plain": [
       "[38, None, None, None, 58, 36, None, 16, None, None]"
      ]
     },
     "execution_count": 51,
     "metadata": {},
     "output_type": "execute_result"
    }
   ],
   "source": [
    "f = lambda x: x+10 if x%2==0 else None\n",
    "\n",
    "# map function always return a value for every iteration\n",
    "\n",
    "list(map(f, special_list))"
   ]
  },
  {
   "cell_type": "code",
   "execution_count": 52,
   "id": "8cf6a04e",
   "metadata": {},
   "outputs": [
    {
     "data": {
      "text/plain": [
       "[28, 48, 26, 6]"
      ]
     },
     "execution_count": 52,
     "metadata": {},
     "output_type": "execute_result"
    }
   ],
   "source": [
    "list(filter(f, special_list))"
   ]
  },
  {
   "cell_type": "markdown",
   "id": "550607f1",
   "metadata": {},
   "source": [
    "### Reduce"
   ]
  },
  {
   "cell_type": "markdown",
   "id": "cc77664e",
   "metadata": {},
   "source": [
    "#### Used to be given to in Python2, but nobody used it, so the maintainers of Python\n",
    "#### took it out of the box and put it into a package."
   ]
  },
  {
   "cell_type": "code",
   "execution_count": null,
   "id": "83316e56",
   "metadata": {},
   "outputs": [],
   "source": [
    "# [\n",
    "#     [1, 2, 3],\n",
    "#     [4, 5, 6],\n",
    "#     [7, 8, 9]\n",
    "# ]"
   ]
  },
  {
   "cell_type": "code",
   "execution_count": 54,
   "id": "0288a101",
   "metadata": {
    "scrolled": true
   },
   "outputs": [],
   "source": [
    "# np.array()\n",
    "\n",
    "# PYTHON ARRAY = a list that hold the same datatypes\n",
    "# PYTHON LIST = a list that hold any datatypes"
   ]
  },
  {
   "cell_type": "code",
   "execution_count": 58,
   "id": "b19fed91",
   "metadata": {},
   "outputs": [
    {
     "data": {
      "text/plain": [
       "[28, 31, 7, 49, 48, 26, 43, 6, 47, 37]"
      ]
     },
     "execution_count": 58,
     "metadata": {},
     "output_type": "execute_result"
    }
   ],
   "source": [
    "special_list"
   ]
  },
  {
   "cell_type": "code",
   "execution_count": 57,
   "id": "8010c691",
   "metadata": {},
   "outputs": [
    {
     "data": {
      "text/plain": [
       "32.2"
      ]
     },
     "execution_count": 57,
     "metadata": {},
     "output_type": "execute_result"
    }
   ],
   "source": [
    "from statistics import mean\n",
    "\n",
    "special_list\n",
    "\n",
    "mean_value = mean(special_list)\n",
    "\n",
    "mean_value"
   ]
  },
  {
   "cell_type": "code",
   "execution_count": 61,
   "id": "f25e5763",
   "metadata": {},
   "outputs": [
    {
     "data": {
      "text/plain": [
       "[49, 48, 43, 47, 37]"
      ]
     },
     "execution_count": 61,
     "metadata": {},
     "output_type": "execute_result"
    }
   ],
   "source": [
    "# Find all numbers in special_list that are greater than the average (mean_value)\n",
    "list(filter(lambda x: x > mean_value, special_list))"
   ]
  },
  {
   "cell_type": "code",
   "execution_count": 62,
   "id": "08b3d583",
   "metadata": {},
   "outputs": [
    {
     "data": {
      "text/plain": [
       "[28, 31, 7, 49, 48, 26, 43, 6, 47, 37]"
      ]
     },
     "execution_count": 62,
     "metadata": {},
     "output_type": "execute_result"
    }
   ],
   "source": [
    "special_list"
   ]
  },
  {
   "cell_type": "code",
   "execution_count": 65,
   "id": "09afd9cc",
   "metadata": {},
   "outputs": [
    {
     "name": "stdout",
     "output_type": "stream",
     "text": [
      "322\n"
     ]
    }
   ],
   "source": [
    "# Takes all values within a list and perform whatever mathematical operation you want on them\n",
    "\n",
    "from functools import reduce\n",
    "\n",
    "# reduce(func, a_list)\n",
    "\n",
    "def my_reduce_func(x, y):\n",
    "    return x+y\n",
    "\n",
    "total = 0\n",
    "for num in special_list:\n",
    "    total += num\n",
    "print(total)"
   ]
  },
  {
   "cell_type": "code",
   "execution_count": 68,
   "id": "76bee57e",
   "metadata": {
    "scrolled": true
   },
   "outputs": [
    {
     "data": {
      "text/plain": [
       "166704651719424"
      ]
     },
     "execution_count": 68,
     "metadata": {},
     "output_type": "execute_result"
    }
   ],
   "source": [
    "reduce(lambda x,y:x*y, special_list)"
   ]
  },
  {
   "cell_type": "markdown",
   "id": "7677ae18",
   "metadata": {},
   "source": [
    "### Recursion"
   ]
  },
  {
   "cell_type": "code",
   "execution_count": 69,
   "id": "2a3e604c",
   "metadata": {},
   "outputs": [],
   "source": [
    "# When to use a for-loop vs recusrion\n",
    "\n",
    "# Recursion - recursing/iterating over something by executing a function back onto itself; If you have a complex set of functionality, \n",
    "# it may not be best to use recursion\n",
    "\n",
    "# For-loop - if you have a complex set of functionality, it may be best to use a for-loop"
   ]
  },
  {
   "cell_type": "code",
   "execution_count": null,
   "id": "6a9194d7",
   "metadata": {},
   "outputs": [],
   "source": [
    "|\n",
    "|\n",
    "|\n",
    "|\n",
    "|\n",
    "|\n",
    "|"
   ]
  },
  {
   "cell_type": "code",
   "execution_count": null,
   "id": "33b05364",
   "metadata": {},
   "outputs": [],
   "source": [
    "1: 1\n",
    "2: 1\n",
    "3: 2\n",
    "4: 3\n",
    "5: 5\n",
    "6: 8\n",
    "7: 13\n",
    "1500: 129859890026251926049613529-1328049136-629049"
   ]
  },
  {
   "cell_type": "code",
   "execution_count": null,
   "id": "799ba239",
   "metadata": {},
   "outputs": [],
   "source": [
    "# Recursion - recursing/iterating over something"
   ]
  },
  {
   "cell_type": "code",
   "execution_count": null,
   "id": "803b2f66",
   "metadata": {},
   "outputs": [],
   "source": [
    "[28, 31, 7, 49, 48, 26, 43, 6, 47, 37]\n",
    "[59, 7, 49, 48, 26, 43, 6, 47, 37]\n",
    "[68, 49, 48, 26, 43, 6, 47, 37]\n",
    "[322]"
   ]
  },
  {
   "cell_type": "markdown",
   "id": "14aaa125",
   "metadata": {},
   "source": [
    "#### Recursion Examples with Factorials"
   ]
  },
  {
   "cell_type": "code",
   "execution_count": 77,
   "id": "ace1947b",
   "metadata": {},
   "outputs": [
    {
     "data": {
      "text/plain": [
       "120"
      ]
     },
     "execution_count": 77,
     "metadata": {},
     "output_type": "execute_result"
    }
   ],
   "source": [
    "# Syntax: 5!\n",
    "# 5*4*3*2*1\n",
    "number = 5\n",
    "\n",
    "def factorial(num):\n",
    "    # base case/a condition for your function to stop running\n",
    "    if num < 1:\n",
    "        return 1\n",
    "    else:\n",
    "        return factorial(num - 1) * num\n",
    "    \n",
    "factorial(5)"
   ]
  },
  {
   "cell_type": "markdown",
   "id": "f710c7b4",
   "metadata": {},
   "source": [
    "### Decorators"
   ]
  },
  {
   "cell_type": "code",
   "execution_count": 93,
   "id": "2644319b",
   "metadata": {},
   "outputs": [
    {
     "name": "stdout",
     "output_type": "stream",
     "text": [
      "==============================\n",
      "Greetings, Ripal\n",
      "==============================\n"
     ]
    }
   ],
   "source": [
    "# Useful for wrapping function, or adding more functionality to an already existing function\n",
    "# ========================\n",
    "# 'Greetings, Ripal'\n",
    "# ========================\n",
    "\n",
    "def wrap(func):\n",
    "    def decorate(name):\n",
    "        print('='*30)\n",
    "        func(name)\n",
    "        print('='*30)\n",
    "    return decorate\n",
    "\n",
    "@wrap\n",
    "def print_greeting(name):\n",
    "    print(f'Greetings, {name}')\n",
    "    \n",
    "print_greeting('Ripal')"
   ]
  },
  {
   "cell_type": "code",
   "execution_count": 94,
   "id": "f325201f",
   "metadata": {
    "scrolled": true
   },
   "outputs": [
    {
     "name": "stdout",
     "output_type": "stream",
     "text": [
      "==============================\n",
      "This works!\n",
      "==============================\n"
     ]
    }
   ],
   "source": [
    "@wrap\n",
    "def do_something_a_little_better(stuff):\n",
    "    print('This works!')\n",
    "    \n",
    "do_something_a_little_better('stuff')"
   ]
  },
  {
   "cell_type": "code",
   "execution_count": 95,
   "id": "088caa32",
   "metadata": {},
   "outputs": [
    {
     "name": "stdout",
     "output_type": "stream",
     "text": [
      "==============================\n",
      "==============================\n",
      "Greetings, Michael\n",
      "==============================\n",
      "==============================\n"
     ]
    }
   ],
   "source": [
    "my_text = wrap(print_greeting)\n",
    "my_text('Michael')"
   ]
  },
  {
   "cell_type": "markdown",
   "id": "d128b4ea",
   "metadata": {},
   "source": [
    "### Exercise #1 <br>\n",
    "<p>Filter out all of the empty strings from the list below</p>"
   ]
  },
  {
   "cell_type": "code",
   "execution_count": 3,
   "id": "1e80aeda",
   "metadata": {},
   "outputs": [],
   "source": [
    "places = [' ', 'Argentina', '  ', 'San Diego', '', '   ', '', 'Boston', 'New York']\n",
    "# = [Argentina, San Diego, Boston, New York]"
   ]
  },
  {
   "cell_type": "markdown",
   "id": "5f07fa1d",
   "metadata": {},
   "source": [
    "### Exercise #2 <br>\n",
    "<p>Write an anonymous function that sorts this list by the last name...<br><b>Hint: Use the \".sort()\" method and access the key\"</b></p>"
   ]
  },
  {
   "cell_type": "code",
   "execution_count": 43,
   "id": "e03ca0b7",
   "metadata": {},
   "outputs": [],
   "source": [
    "# .sort(key=)\n",
    "authors = [\"Connor Milliken\", \"Victor aNisimov\", \"Andrew P. Garfield\", \"David HassELHOFF\", \"Oprah wInfrey\"]"
   ]
  },
  {
   "cell_type": "markdown",
   "id": "127eafd8",
   "metadata": {},
   "source": [
    "### Exercise #3 <br>\n",
    "<p>Convert the list below from Celsius to Farhenheit, using the map function with a lambda...</p>"
   ]
  },
  {
   "cell_type": "code",
   "execution_count": 44,
   "id": "3a03c4f5",
   "metadata": {},
   "outputs": [],
   "source": [
    "places = [('Nassau', 32), ('Boston', 12), ('Los Angeles', 44), ('Miami', 29)]"
   ]
  },
  {
   "cell_type": "markdown",
   "id": "6dc65103",
   "metadata": {},
   "source": [
    "### Exercise #4 <br>\n",
    "<p>Write a recursive function to perform the fibonacci sequence up to the number passed in.</p>"
   ]
  },
  {
   "cell_type": "code",
   "execution_count": 1,
   "id": "8188cd4c",
   "metadata": {},
   "outputs": [
    {
     "name": "stdout",
     "output_type": "stream",
     "text": [
      "How many terms? 5\n",
      "Fibonacci sequence:\n",
      "0\n",
      "1\n",
      "1\n",
      "2\n",
      "3\n"
     ]
    }
   ],
   "source": [
    "def recur_fibo(n):  \n",
    "   if n <= 1:  \n",
    "       return n  \n",
    "   else:  \n",
    "       return(recur_fibo(n-1) + recur_fibo(n-2))  \n",
    " \n",
    "nterms = int(input(\"How many terms? \"))  \n",
    "\n",
    "if nterms <= 0:  \n",
    "   print(\"Plese enter a positive integer\")  \n",
    "else:  \n",
    "   print(\"Fibonacci sequence:\")  \n",
    "   for i in range(nterms):  \n",
    "       print(recur_fibo(i)) "
   ]
  },
  {
   "cell_type": "code",
   "execution_count": null,
   "id": "2105a396",
   "metadata": {},
   "outputs": [],
   "source": []
  }
 ],
 "metadata": {
  "kernelspec": {
   "display_name": "Python 3",
   "language": "python",
   "name": "python3"
  },
  "language_info": {
   "codemirror_mode": {
    "name": "ipython",
    "version": 3
   },
   "file_extension": ".py",
   "mimetype": "text/x-python",
   "name": "python",
   "nbconvert_exporter": "python",
   "pygments_lexer": "ipython3",
   "version": "3.8.8"
  }
 },
 "nbformat": 4,
 "nbformat_minor": 5
}
